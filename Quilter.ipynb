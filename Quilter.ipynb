{
 "cells": [
  {
   "cell_type": "code",
   "execution_count": 1,
   "id": "logical-mixture",
   "metadata": {
    "tags": []
   },
   "outputs": [],
   "source": [
    "import cv2 as cv\n",
    "import tensorflow as tf\n",
    "import pandas as pd\n",
    "import pillow as pil\n",
    "import glob "
   ]
  },
  {
   "cell_type": "code",
   "execution_count": null,
   "id": "heard-referral",
   "metadata": {
    "tags": []
   },
   "outputs": [],
   "source": [
    "images = [cv2.imread(file) for file in glob.glob(\"path/to/files/*.png\")]"
   ]
  }
 ],
 "metadata": {
  "kernelspec": {
   "display_name": "Python 3",
   "language": "python",
   "name": "python3"
  },
  "language_info": {
   "codemirror_mode": {
    "name": "ipython",
    "version": 3
   },
   "file_extension": ".py",
   "mimetype": "text/x-python",
   "name": "python",
   "nbconvert_exporter": "python",
   "pygments_lexer": "ipython3",
   "version": "3.9.1"
  }
 },
 "nbformat": 4,
 "nbformat_minor": 5
}
